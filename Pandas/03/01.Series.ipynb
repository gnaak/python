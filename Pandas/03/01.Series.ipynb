{
 "cells": [
  {
   "cell_type": "code",
   "execution_count": null,
   "metadata": {},
   "outputs": [],
   "source": [
    "import pandas as pd\n",
    "\n",
    "# Series\n",
    "# 1월부터 4월까지 평균 온도 데이터 \n",
    "temp = pd.Series([-20, -10, 10, 20])\n",
    "# temp[0] 1월 온도 \n",
    "\n",
    "temp = pd.Series([-20, -10, 10, 20], index=['Jan','Feb','Mar','Apr'])\n",
    "# temp['Jan']"
   ]
  }
 ],
 "metadata": {
  "kernelspec": {
   "display_name": "Python 3",
   "language": "python",
   "name": "python3"
  },
  "language_info": {
   "codemirror_mode": {
    "name": "ipython",
    "version": 3
   },
   "file_extension": ".py",
   "mimetype": "text/x-python",
   "name": "python",
   "nbconvert_exporter": "python",
   "pygments_lexer": "ipython3",
   "version": "3.11.7"
  }
 },
 "nbformat": 4,
 "nbformat_minor": 2
}
