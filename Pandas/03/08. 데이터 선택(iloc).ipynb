{
 "cells": [
  {
   "cell_type": "code",
   "execution_count": 4,
   "metadata": {},
   "outputs": [
    {
     "data": {
      "text/html": [
       "<div>\n",
       "<style scoped>\n",
       "    .dataframe tbody tr th:only-of-type {\n",
       "        vertical-align: middle;\n",
       "    }\n",
       "\n",
       "    .dataframe tbody tr th {\n",
       "        vertical-align: top;\n",
       "    }\n",
       "\n",
       "    .dataframe thead th {\n",
       "        text-align: right;\n",
       "    }\n",
       "</style>\n",
       "<table border=\"1\" class=\"dataframe\">\n",
       "  <thead>\n",
       "    <tr style=\"text-align: right;\">\n",
       "      <th></th>\n",
       "      <th>국어</th>\n",
       "      <th>영어</th>\n",
       "    </tr>\n",
       "    <tr>\n",
       "      <th>지원번호</th>\n",
       "      <th></th>\n",
       "      <th></th>\n",
       "    </tr>\n",
       "  </thead>\n",
       "  <tbody>\n",
       "    <tr>\n",
       "      <th>1번</th>\n",
       "      <td>90</td>\n",
       "      <td>85</td>\n",
       "    </tr>\n",
       "    <tr>\n",
       "      <th>2번</th>\n",
       "      <td>40</td>\n",
       "      <td>35</td>\n",
       "    </tr>\n",
       "  </tbody>\n",
       "</table>\n",
       "</div>"
      ],
      "text/plain": [
       "      국어  영어\n",
       "지원번호        \n",
       "1번    90  85\n",
       "2번    40  35"
      ]
     },
     "execution_count": 4,
     "metadata": {},
     "output_type": "execute_result"
    }
   ],
   "source": [
    "# 데이터 선택 (iloc)\n",
    "# 위치를 이용하여 원하는 row에서 원하는 column\n",
    "import pandas as pd\n",
    "df = pd.read_csv('score.csv', index_col='지원번호')\n",
    "\n",
    "df.iloc[0] # 리스트 접근과 동일하게 0번째 인덱스\n",
    "df.iloc[0:5] # iloc에서는 0부터 4번째 데이터까지만 가져옴 5를 포함하지 않아요 \n",
    "df.iloc[0,1] # 0번째 위치의 1번째(학교) 데이터\n",
    "df.iloc[4,2] # 5번째 학생의 키 데이터 \n",
    "\n",
    "df.iloc[[0,1], 2] # 0, 1번째 학생의 2번째(키) 데이터\n",
    "df.iloc[[0,1],[3,4]] # 0, 1번째 학생의 3, 4번째 데이터\n",
    "\n",
    "df.iloc[0:2,3:5] # 슬라이싱에서는 [] 한 번 더 사용할 필요 없어요 "
   ]
  },
  {
   "cell_type": "code",
   "execution_count": null,
   "metadata": {},
   "outputs": [],
   "source": [
    "\n"
   ]
  }
 ],
 "metadata": {
  "kernelspec": {
   "display_name": "Python 3",
   "language": "python",
   "name": "python3"
  },
  "language_info": {
   "codemirror_mode": {
    "name": "ipython",
    "version": 3
   },
   "file_extension": ".py",
   "mimetype": "text/x-python",
   "name": "python",
   "nbconvert_exporter": "python",
   "pygments_lexer": "ipython3",
   "version": "3.11.7"
  }
 },
 "nbformat": 4,
 "nbformat_minor": 2
}
