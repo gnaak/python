{
 "cells": [
  {
   "cell_type": "code",
   "execution_count": null,
   "metadata": {},
   "outputs": [],
   "source": [
    "# 파일에서 데이터 불러오기\n",
    "import pandas as pd\n",
    "import numpy as np\n",
    "df = pd.read_csv('data/friend_list.csv')\n",
    "df2 = pd.read_csv('data/friend_list_tab.txt', delimiter='\\t')\n",
    "df3 = pd.read_csv('data/friend_list_no_head.csv', header=None)\n",
    "df3.columns = ['name','age', 'job']\n",
    "df4 = pd.read_csv('data/friend_list_no_head.csv', header=None, names=['name','job','age'])\n"
   ]
  },
  {
   "cell_type": "code",
   "execution_count": null,
   "metadata": {},
   "outputs": [],
   "source": [
    "# 데이터 프레임 생성하기 \n",
    "# 01\n",
    "friend_dict_list = [ \n",
    "    {'name': 'John', 'age': 25, 'job': 'student'},\n",
    "    {'name': 'Nate', 'age': 28, 'job': 'teacher'}\n",
    "]"
   ]
  },
  {
   "cell_type": "code",
   "execution_count": null,
   "metadata": {},
   "outputs": [],
   "source": [
    "# 02\n",
    "from collections import OrderedDict\n",
    "friend_ordered_dict = OrderedDict(\n",
    "    [\n",
    "        ('name', ['John', 'Jenny', 'Nate']),\n",
    "        ('age', [20, 30, 30]),\n",
    "        ('job', ['student', 'developer', 'teacher']) \n",
    "        ] \n",
    ")\n",
    "df = pd.DataFrame.from_dict(friend_ordered_dict)"
   ]
  },
  {
   "cell_type": "code",
   "execution_count": null,
   "metadata": {},
   "outputs": [],
   "source": [
    "friend_list = [ ['John', 20, 'student'],['Jenny', 30, 'developer'],['Nate', 30, 'teacher'] ]\n",
    "column_name = ['name', 'age', 'job']\n",
    "df = pd.DataFrame.from_records(friend_list, columns=column_name)"
   ]
  },
  {
   "cell_type": "code",
   "execution_count": null,
   "metadata": {},
   "outputs": [],
   "source": [
    "# 데이터프레임 파일로 저장하기 \n",
    "friends = [\n",
    "    {'name': 'John', 'age': 20, 'job' : 'student'},\n",
    "    {'name': 'Nate', 'age': 30, 'job' : 'teacher'},\n",
    "    {'name': 'Jenny', 'age': 28, 'job' : None},\n",
    "]\n",
    "df = pd.DataFrame(friends)\n",
    "df= df[['name','age','job']]\n",
    "df.to_csv('data/friends.csv', index=False, header=True, na_rep= '-')"
   ]
  },
  {
   "cell_type": "code",
   "execution_count": null,
   "metadata": {},
   "outputs": [],
   "source": [
    "# 데이터프레임 행, 열 선택 및 필터하기\n",
    "friend_data = {\n",
    "    'name': ['John', 'Lisa', 'Jenny'],\n",
    "    'age': [25, 26, 28],\n",
    "    'job': ['main', 'sub', 'vocal']\n",
    "}\n",
    "\n",
    "df = pd.DataFrame(friend_data)\n",
    "df.loc[[0,2]]\n"
   ]
  },
  {
   "cell_type": "code",
   "execution_count": null,
   "metadata": {},
   "outputs": [],
   "source": [
    "friend_data = {\n",
    "    'name': ['John', 'Lisa', 'Jenny'],\n",
    "    'age': [25, 26, 28],\n",
    "    'job': ['main', 'sub', 'vocal']\n",
    "}\n",
    "\n",
    "df = pd.DataFrame(friend_data)\n",
    "df[df.age >25]\n",
    "df.query('age>25')\n",
    "df[(df.age>25) & (df.name == 'Jenny')]"
   ]
  },
  {
   "cell_type": "code",
   "execution_count": null,
   "metadata": {},
   "outputs": [],
   "source": [
    "black_pink = {\n",
    "    'name' : ['Lisa', 'Jisu', 'Jenny', 'Rose'],\n",
    "    'age' : [20, 28, 30, 27],\n",
    "    'position' : ['dancer', 'visual', 'sub', 'main'],\n",
    "}\n",
    "\n",
    "df = pd.DataFrame(black_pink)"
   ]
  },
  {
   "cell_type": "code",
   "execution_count": null,
   "metadata": {},
   "outputs": [],
   "source": [
    "df.iloc[:,:2]"
   ]
  },
  {
   "cell_type": "code",
   "execution_count": null,
   "metadata": {},
   "outputs": [],
   "source": [
    "# 데이터프레임 행, 열 삭제하기 \n",
    "df = pd.read_csv('data/friend_list_no_head.csv', header=None, names=['name','age','job'])\n",
    "df_filtered = df[['name', 'age']]\n",
    "df_filtered = df.drop('job', axis=1)\n",
    "df.drop('job', axis=1, inplace=True)\n"
   ]
  },
  {
   "cell_type": "code",
   "execution_count": null,
   "metadata": {},
   "outputs": [],
   "source": [
    "# 데이터프레임 행, 열 생성 및 수정하기\n",
    "df = pd.read_csv('data/friend_list_no_head.csv', header=None, names=['name','age','job'])\n",
    "df['salary'] = 0 \n",
    "df['salary'] = np.where(df['job'] != 'student', 'yes', 'no')\n"
   ]
  },
  {
   "cell_type": "code",
   "execution_count": null,
   "metadata": {},
   "outputs": [],
   "source": [
    "test_data = [\n",
    "    {'name' : 'Jenny', 'mid' : 95, 'final' : 35},\n",
    "    {'name' : 'Jisu', 'mid' : 85, 'final' : 85},\n",
    "    {'name' : 'Lisa', 'mid' : 65, 'final' : 85},\n",
    "    {'name' : 'Rose', 'mid' : 75, 'final' : 95},\n",
    "]\n",
    "df = pd.DataFrame(test_data)\n",
    "df['total'] = df['mid']+df['final']\n",
    "df['avg'] = df['total']/2\n",
    "\n",
    "grades = []\n",
    "\n",
    "for row in df['avg']:\n",
    "    if row>=90:\n",
    "        grades.append('A')\n",
    "    elif row>=80:\n",
    "        grades.append('B')\n",
    "    else:\n",
    "        grades.append('F')\n",
    "df['grades'] = grades\n",
    "\n",
    "def pass_or_fail(row):\n",
    "    if row != 'F':\n",
    "        return \"Pass\"\n",
    "    else:\n",
    "        return \"Fail\"\n",
    "\n",
    "df.grades = df.grades.apply(pass_or_fail)"
   ]
  },
  {
   "cell_type": "code",
   "execution_count": null,
   "metadata": {},
   "outputs": [],
   "source": [
    "date_list = [\n",
    "    {\n",
    "        'yyyy-mm-dd' : '2000-06-27'\n",
    "    },\n",
    "    {\n",
    "        'yyyy-mm-dd' : '2007-10-27',\n",
    "    },\n",
    "]\n",
    "df = pd.DataFrame(date_list)\n",
    "\n",
    "def extract_year(row):\n",
    "    return row.split('-')[0]\n",
    "\n",
    "df['year'] = df['yyyy-mm-dd'].apply(extract_year)"
   ]
  },
  {
   "cell_type": "code",
   "execution_count": 32,
   "metadata": {},
   "outputs": [],
   "source": [
    "test_data = [\n",
    "    {'name' : 'Jenny', 'mid' : 95, 'final' : 35},\n",
    "    {'name' : 'Jisu', 'mid' : 85, 'final' : 85},\n",
    "    {'name' : 'Lisa', 'mid' : 65, 'final' : 85},\n",
    "    {'name' : 'Rose', 'mid' : 75, 'final' : 95},\n",
    "]\n",
    "\n",
    "test_data2 = [\n",
    "    {'name' : 'Ben', 'mid' : 50, 'final' : 50},\n",
    "]\n",
    "\n",
    "df = pd.DataFrame(test_data)\n",
    "df2 = pd.DataFrame(test_data2)\n",
    "df = pd.concat([df,df2], ignore_index=True) # append 말고 concat을 사용한대요 "
   ]
  },
  {
   "cell_type": "code",
   "execution_count": null,
   "metadata": {},
   "outputs": [],
   "source": [
    "#  데이터 그룹 만들기 \n",
    "student_list = [\n",
    "    {'name': 'John', 'major' : 'Computer Science', 'sex' : 'male' },\n",
    "    {'name': 'Nate', 'major' : 'Computer Science', 'sex' : 'male' },\n",
    "    {'name': 'Abraham', 'major' : 'Physics', 'sex' : 'male' },\n",
    "    {'name': 'Brian', 'major' : 'Physicology', 'sex' : 'male' },\n",
    "    {'name': 'Janny', 'major' : 'Economics', 'sex' : 'female' },\n",
    "    {'name': 'Yuna', 'major' : 'Economics', 'sex' : 'female' },\n",
    "]\n",
    "df = pd.DataFrame(student_list)\n",
    "\n",
    "# 새롭게 열을 추가할 때 \n",
    "\n",
    "df.loc[len(df)] = ['Edward', 'Computer Science', 'male']\n",
    "df.loc[len(df)] = ['Jennifer', 'Computer Science', 'female']\n",
    "df.loc[len(df)] = ['Zara', 'Psychology', 'female']\n",
    "\n",
    "group_major = df.groupby('major')\n",
    "group_major.groups\n",
    "\n",
    "for name, group in group_major:\n",
    "    print(name + \" : \" + str(len(group)))\n",
    "    print(group)\n",
    "\n",
    "df_major_cnt = pd.DataFrame({'count' : group_major.size()}).reset_index\n",
    "\n",
    "group_sex = df.groupby('sex')\n",
    "for name, group in group_sex:\n",
    "    print(name + \" : \" + str(len(group)))\n",
    "    print(group)"
   ]
  },
  {
   "cell_type": "code",
   "execution_count": null,
   "metadata": {},
   "outputs": [],
   "source": [
    "# 중복 데이터 삭제하기\n",
    "student_list = [\n",
    "    {'name': 'John', 'major' : 'Computer Science', 'sex' : 'male' },\n",
    "    {'name': 'Nate', 'major' : 'Computer Science', 'sex' : 'male' },\n",
    "    {'name': 'Abraham', 'major' : 'Physics', 'sex' : 'male' },\n",
    "    {'name': 'Brian', 'major' : 'Physicology', 'sex' : 'male' },\n",
    "    {'name': 'Janny', 'major' : 'Economics', 'sex' : 'female' },\n",
    "    {'name': 'Yuna', 'major' : 'Economics', 'sex' : 'female' },\n",
    "    {'name': 'John', 'major' : 'Computer Science', 'sex' : 'male' },\n",
    "]\n",
    "\n",
    "df = pd.DataFrame(student_list)\n",
    "\n",
    "# True가 중복된다는거 \n",
    "df.duplicated()\n",
    "\n",
    "# 이걸 사용하면 중복을 제거할 수 있어요 \n",
    "df.drop_duplicates()"
   ]
  },
  {
   "cell_type": "code",
   "execution_count": null,
   "metadata": {},
   "outputs": [],
   "source": [
    "student_list = [\n",
    "    {'name': 'John', 'major' : 'Computer Science', 'sex' : 'male' },\n",
    "    {'name': 'Nate', 'major' : 'Computer Science', 'sex' : 'male' },\n",
    "    {'name': 'Abraham', 'major' : 'Physics', 'sex' : 'male' },\n",
    "    {'name': 'Brian', 'major' : 'Physicology', 'sex' : 'male' },\n",
    "    {'name': 'Janny', 'major' : 'Economics', 'sex' : 'female' },\n",
    "    {'name': 'Yuna', 'major' : 'Economics', 'sex' : 'female' },\n",
    "    {'name': 'John', 'major' : 'Economics', 'sex' : 'male' },\n",
    "    {'name': 'Nate', 'major' : 'Physicology', 'sex' : 'male' },\n",
    "]\n",
    "\n",
    "df = pd.DataFrame(student_list)\n",
    "# 완벽하게 중복되지 않은 경우에는 False가 나와요 이때 이름이 같은 값으로 넣어주면\n",
    "df.duplicated(['name'])\n",
    "\n",
    "# 처음을 살릴 때 \n",
    "df.drop_duplicates(['name'], keep='first')\n",
    "\n",
    "# 마지막을 살릴 때 \n",
    "df.drop_duplicates(['name'], keep='last')\n"
   ]
  },
  {
   "cell_type": "code",
   "execution_count": null,
   "metadata": {},
   "outputs": [],
   "source": [
    "# NaN 값을 다른 값으로 변경하기 \n",
    "school_id_list = [\n",
    "    {'name' : 'John', 'job' : 'student', 'age' : 25},\n",
    "    {'name' : 'Abraham', 'job' : 'student', 'age' : 15},\n",
    "    {'name' : 'Jenny', 'job' : 'student', 'age' : 12},\n",
    "    {'name' : 'Rose', 'job' : 'student', 'age' : 18},\n",
    "    {'name' : 'Janny', 'job' : 'student', 'age' : None},\n",
    "    {'name' : 'Yuna', 'job' : 'teacher', 'age' : 45},\n",
    "    {'name' : 'Nate', 'job' : 'teacher', 'age' : 35},\n",
    "]\n",
    "df = pd.DataFrame(school_id_list)\n",
    "# df.info()\n",
    "\n",
    "# None value 찾기 \n",
    "df.isna()\n",
    "\n",
    "df.isnull()\n",
    "\n",
    "# df.age = df.age.fillna(0)\n",
    "# 중간값으로 변경하기\n",
    "df['age'].fillna(df.groupby('job')['age'].transform('median'), inplace=True)\n",
    "# df['age'].fillna(df.groupby('job')['age'].transform('mean'), inplace=True)\n",
    "df"
   ]
  },
  {
   "cell_type": "code",
   "execution_count": null,
   "metadata": {},
   "outputs": [],
   "source": [
    "# apply 함수 사용하기\n",
    "\n",
    "date_list = [\n",
    "    {'yyyy-mm-dd' : '2000-06-27'},\n",
    "    {'yyyy-mm-dd' : '2005-12-20'},\n",
    "    {'yyyy-mm-dd' : '2007-10-27'},\n",
    "]\n",
    "df = pd.DataFrame(date_list)\n",
    "\n",
    "def extract_year(column):\n",
    "    return column.split('-')[0]\n",
    "\n",
    "df['year'] = df['yyyy-mm-dd'].apply(extract_year)\n"
   ]
  },
  {
   "cell_type": "code",
   "execution_count": null,
   "metadata": {},
   "outputs": [],
   "source": [
    "def get_age(year, current_year):\n",
    "    return current_year - int(year)\n",
    "df['age'] = df['year'].apply(get_age, current_year=2023)"
   ]
  },
  {
   "cell_type": "code",
   "execution_count": null,
   "metadata": {},
   "outputs": [],
   "source": [
    "def introduce(age, prefix, suffix):\n",
    "    return prefix + str(age) + suffix\n",
    "\n",
    "df['intro'] = df['age'].apply(introduce, prefix=\"I am \", suffix = \" years old.\" )"
   ]
  },
  {
   "cell_type": "code",
   "execution_count": null,
   "metadata": {},
   "outputs": [],
   "source": [
    "def intro2(row):\n",
    "    return \"I was born in \" + str(row.year) + \" my age is \" + str(row.age)\n",
    "df['introduce'] = df.apply(intro2, axis=1)\n"
   ]
  },
  {
   "cell_type": "code",
   "execution_count": null,
   "metadata": {},
   "outputs": [],
   "source": [
    "# unique, value_cnts \n",
    "job_list = [{'name': 'John', 'job': \"teacher\"},\n",
    "                {'name': 'Nate', 'job': \"teacher\"},\n",
    "                {'name': 'Fred', 'job': \"teacher\"},\n",
    "                {'name': 'Abraham', 'job': \"student\"},\n",
    "                {'name': 'Brian', 'job': \"student\"},\n",
    "                {'name': 'Janny', 'job': \"developer\"},\n",
    "                {'name': 'Nate', 'job': \"teacher\"},\n",
    "                {'name': 'Obrian', 'job': \"dentist\"},\n",
    "                {'name': 'Yuna', 'job': \"teacher\"},\n",
    "                {'name': 'Rob', 'job': \"lawyer\"},\n",
    "                {'name': 'Brian', 'job': \"student\"},\n",
    "                {'name': 'Matt', 'job': \"student\"},\n",
    "                {'name': 'Wendy', 'job': \"banker\"},\n",
    "                {'name': 'Edward', 'job': \"teacher\"},\n",
    "                {'name': 'Ian', 'job': \"teacher\"},\n",
    "                {'name': 'Chris', 'job': \"banker\"},\n",
    "                {'name': 'Philip', 'job': \"lawyer\"},\n",
    "                {'name': 'Janny', 'job': \"basketball player\"},\n",
    "                {'name': 'Gwen', 'job': \"teacher\"},\n",
    "                {'name': 'Jessy', 'job': \"student\"}\n",
    "         ]\n",
    "df = pd.DataFrame(job_list, columns = ['name', 'job'])\n",
    "print( df.job.unique() )\n",
    "df.job.value_counts()"
   ]
  },
  {
   "cell_type": "code",
   "execution_count": null,
   "metadata": {},
   "outputs": [],
   "source": [
    "label = [1,2,3,4,5]\n",
    "prediction = [1,2,2,5,5]\n",
    "\n",
    "comparison = pd.DataFrame(\n",
    "    {'label': label,\n",
    "     'prediction': prediction\n",
    "    })\n",
    "\n",
    "comparison"
   ]
  }
 ],
 "metadata": {
  "kernelspec": {
   "display_name": "Python 3",
   "language": "python",
   "name": "python3"
  },
  "language_info": {
   "codemirror_mode": {
    "name": "ipython",
    "version": 3
   },
   "file_extension": ".py",
   "mimetype": "text/x-python",
   "name": "python",
   "nbconvert_exporter": "python",
   "pygments_lexer": "ipython3",
   "version": "3.11.7"
  }
 },
 "nbformat": 4,
 "nbformat_minor": 2
}
